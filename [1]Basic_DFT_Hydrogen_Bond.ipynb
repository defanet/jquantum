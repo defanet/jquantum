{
 "cells": [
  {
   "cell_type": "code",
   "execution_count": 1,
   "id": "hired-formation",
   "metadata": {},
   "outputs": [],
   "source": [
    "# setting where do you put your jar file\n",
    "import jnius_config\n",
    "jnius_config.set_classpath('jquantum.1.0.jar')\n",
    "\n",
    "# autoclass is wrapper for your java class\n",
    "from jnius import autoclass\n",
    "jInit = autoclass('jqc.Initialization')\n",
    "jinit = jInit()"
   ]
  },
  {
   "cell_type": "code",
   "execution_count": 2,
   "id": "difficult-bundle",
   "metadata": {},
   "outputs": [],
   "source": [
    "import numpy as np\n",
    "import json\n",
    "from scipy.special import factorial\n",
    "\n",
    "ZAtoms = {\"H\":1,\"He\":2,\"Li\":3,\"Be\":4,\"B\":5,\"C\":6,\"N\":7,\"O\":8,\"F\":9,\"Ne\":10,\n",
    "          \"Na\":11,\"Mg\":12,\"Al\":13,\"Si\":14,\"P\":15,\"S\":16,\"Cl\":17,\"Ar\":18,\n",
    "          \"K\":19,\"Ca\":20,\"Sc\":21,\"Ti\":22,\"V\":23,\"Cr\":24,\"Mn\":25,\"Fe\":26,\"Co\":27,\"Ni\":28,\"Cu\":29,\"Zn\":30,\"Ga\":31,\"Ge\":32,\"As\":33,\"Se\":34,\"Br\":35,\"Kr\":36}\n",
    "          #,Rb,Sr,Y,Zr,Nb,Mo,Tc,Ru,Rh,Pd,Ag,Cd,In,Sn,Sb,Te,I,Xe,Cs,Ba,La,Ce,Pr,Nd,Pm,Sm,Eu,Gd,Tb,Dy,Ho,Er,Tm,Yb,Lu,Hf,Ta,W,Re,Os,Ir,Pt,Au,Hg,Tl,Pb,Bi,Po,At,Rn,Fr,Ra,Ac,Th,Pa,U,Np,Pu,Am,Cm,Bk,Cf,Es,Fm,Md,No,Lr,Rf,Db,Sg,Bh,Hs,Mt,Ds,Rg,Cn,Nh,Fl,Mc,Lv,Ts,Og}\n",
    "\n",
    "angularNumbers = {\"s\":[[0,0,0]], \"p\":[[1,0,0],[0,1,0],[0,0,1]], \"d\":[[2,0,0],[1,1,0],[1,0,1],[0,2,0],[0,1,1],[0,0,2]],\n",
    "                  \"f\":[[3,0,0],[2,1,0],[2,0,1],[1,2,0],[1,1,1],[1,0,2],[0,3,0],[0,2,1],[0,1,2],[0,0,3]] }\n",
    "bondLenght = 1.889725989\n",
    "\n",
    "dataset = [] #all data in class data will be contained in this list\n",
    "\n",
    "class data: \n",
    "  def __init__(self, atom, R, angular, lnum, prim, cont, ZAtom):\n",
    "    self.atom = atom        #discribe number electron, atom's name, state\n",
    "    self.R = R              #position atom\n",
    "    self.angular = angular\n",
    "    self.lnum = lnum        #quantum number Ylmn {spd....}\n",
    "    self.prim = prim        #pangkat/alpha/exponent\n",
    "    self.cont = cont[0]     #coefecient\n",
    "    self.ZAtom = ZAtom      #number atom {Z}\n",
    "    self.norm = normalized(self.prim,self.lnum) #additional calculation normalization each basis i for all quantum number\n",
    "\n",
    "def setData(atoms,position,basis):\n",
    "  dataset.clear()\n",
    "  file = open('basis/'+basis+'.json',)\n",
    "  datajs = json.load(file)\n",
    "  position = np.array(position)*bondLenght\n",
    "  for i,atom in zip(range(len(atoms)),atoms):\n",
    "    for d in datajs[atom]: \n",
    "      for lnum in angularNumbers[d['angular']]:\n",
    "        dataset.append(data(atom, position[i], d['angular'], lnum, d['prim'], d['cont'], ZAtoms[atom]))\n",
    "  file.close() \n",
    "\n",
    "def normalized(prim,l):\n",
    "  norm = np.zeros(len(prim))\n",
    "  for i in range(len(prim)):\n",
    "    norm[i] = np.sqrt(np.power(2, 2 *(l[0]+l[1]+l[2])+1.5) * np.power(prim[i],l[0]+l[1]+l[2]+1.5)/(factorial(factorial(2*l[0]-1)) * factorial(factorial(2 * l[1] - 1)) * factorial(factorial(2 * l[2] - 1)) * np.power(np.pi, 1.5)))\n",
    "  return norm\n",
    "\n",
    "def printDataset() : \n",
    "  for i in range(len(dataset)):\n",
    "    print(\"atom: \",i+1, dataset[i].atom, dataset[i].angular)\n",
    "    print(\"Position: \",dataset[i].R)\n",
    "    print(\"Cont: \", dataset[i].cont)\n",
    "    print(\"lnum: \", dataset[i].lnum)\n",
    "    print(\"Prim: \", dataset[i].prim)\n",
    "    print(\"ZAtom: \", dataset[i].ZAtom)\n",
    "    print(\"normalized: \", dataset[i].norm)\n",
    "    print(\"-------------------------\")"
   ]
  },
  {
   "cell_type": "code",
   "execution_count": 3,
   "id": "affiliated-lindsay",
   "metadata": {},
   "outputs": [],
   "source": [
    "def convertDataset_to_JavaDataset():\n",
    "    jinit.resetData()\n",
    "    for i in range(len(dataset)):\n",
    "        jinit.setBasisData(i,dataset[i].atom, dataset[i].angular,\n",
    "                  dataset[i].R.tolist(),\n",
    "                  dataset[i].prim,\n",
    "                  dataset[i].lnum,\n",
    "                  dataset[i].cont,\n",
    "                  dataset[i].ZAtom,\n",
    "                  dataset[i].norm.tolist()\n",
    "                  )\n",
    "\n",
    "n    = len(dataset)\n",
    "ints = np.zeros((n,n,n,n))\n",
    "Ek   = np.zeros((n,n))\n",
    "Ev   = np.zeros((n,n))\n",
    "S    = np.zeros((n,n))\n",
    "\n",
    "def kernel(atoms,position,spinUp,spinDn,excName,basis):\n",
    "    setData(atoms,position,basis)\n",
    "    #printDataset()\n",
    "    convertDataset_to_JavaDataset()\n",
    "    \n",
    "    Z = []\n",
    "    for i in range(len(atoms)):\n",
    "        Z.append(ZAtoms[atoms[i]])\n",
    "    jMole = autoclass('jqc.Mole')\n",
    "    jmole = jMole(atoms,position,Z,spinUp,spinDn,excName)\n",
    "    jinit.runInit(jmole)\n",
    "\n",
    "    Ek = jinit.Ek\n",
    "    Ev = jinit.Ev\n",
    "    S = jinit.S\n",
    "    ints = jinit.ints\n",
    "    #print(len(Ek))\n",
    "    #print(Ev)\n",
    "    #print(S)\n",
    "    #print(ints)\n",
    "    \n",
    "    jSCF = autoclass('jqc.SCF')\n",
    "    jscf = jSCF(jmole, jinit.getBasisData())\n",
    "    Emin = jscf.run(Ek,Ev,S,ints)\n",
    "    return Emin"
   ]
  },
  {
   "cell_type": "code",
   "execution_count": 4,
   "id": "missing-bishop",
   "metadata": {},
   "outputs": [
    {
     "name": "stdout",
     "output_type": "stream",
     "text": [
      "-74.06515256747129\n"
     ]
    }
   ],
   "source": [
    "#Test running molecule Water H2O\n",
    "molecule = 'H2O'\n",
    "atoms = ['O','H','H']\n",
    "position = [[0, 0, 0.1173],[0, 0.7572, -0.4692],[0, -0.7572, -0.4692]]\n",
    "spinUp = 5\n",
    "spinDn = 5\n",
    "excName = \"LDA\"\n",
    "basis = 'sto-3g'\n",
    "Etot = kernel(atoms,position,spinUp,spinDn,excName,basis)\n",
    "print(Etot)"
   ]
  },
  {
   "cell_type": "code",
   "execution_count": 5,
   "id": "increased-wednesday",
   "metadata": {},
   "outputs": [
    {
     "data": {
      "image/png": "[encoded data removed]",
      "text/plain": [
       "<Figure size 432x288 with 1 Axes>"
      ]
     },
     "metadata": {
      "needs_background": "light"
     },
     "output_type": "display_data"
    }
   ],
   "source": [
    "#Test Hydrogen molecule H2 Bonding with variation R\n",
    "import matplotlib.pyplot as plt\n",
    "\n",
    "molecule = \"H2\"\n",
    "atoms = ['H','H']\n",
    "spinUp = 1\n",
    "spinDn = 1\n",
    "excName = \"LDA\"\n",
    "basis = 'sto-3g'\n",
    "R = np.arange(0.2, 10, 0.1).tolist()\n",
    "nr = len(R)\n",
    "Etot = np.zeros(nr)\n",
    "for i in range(nr):\n",
    "    position = [[0,0,0],[0,0,R[i]]]\n",
    "    Etot[i] = kernel(atoms,position,spinUp,spinDn,excName,basis)\n",
    "    \n",
    "plt.plot(R,Etot)\n",
    "plt.ylabel('Total HF energy \\n(electronic energy plus nuclear repulsion)')\n",
    "plt.xlabel('distance atom H-H')\n",
    "plt.show()"
   ]
  },
  {
   "cell_type": "code",
   "execution_count": 6,
   "id": "alien-techno",
   "metadata": {},
   "outputs": [
    {
     "data": {
      "image/png": "[encoded data removed]",
      "text/plain": [
       "<Figure size 432x288 with 1 Axes>"
      ]
     },
     "metadata": {
      "needs_background": "light"
     },
     "output_type": "display_data"
    }
   ],
   "source": [
    "#Comparing H2 bonding with other basis\n",
    "basis = 'cc-pvdz'\n",
    "Etot2 = np.zeros(nr)\n",
    "for i in range(nr):\n",
    "    position = [[0,0,0],[0,0,R[i]]]\n",
    "    Etot2[i] = kernel(atoms,position,spinUp,spinDn,excName,basis)\n",
    "\n",
    "fig, ax = plt.subplots()\n",
    "ax.plot(R, Etot, 'k-', label='sto-3g')\n",
    "ax.plot(R, Etot2, 'k:', label='cc-pvdz')\n",
    "\n",
    "plt.ylabel('Total HF energy \\n(electronic energy plus nuclear repulsion)')\n",
    "plt.xlabel('distance atom H-H')\n",
    "legend = ax.legend(loc='upper center', shadow=True, fontsize='x-small')\n",
    "plt.show()"
   ]
  }
 ],
 "metadata": {
  "kernelspec": {
   "display_name": "Python 3",
   "language": "python",
   "name": "python3"
  },
  "language_info": {
   "codemirror_mode": {
    "name": "ipython",
    "version": 3
   },
   "file_extension": ".py",
   "mimetype": "text/x-python",
   "name": "python",
   "nbconvert_exporter": "python",
   "pygments_lexer": "ipython3",
   "version": "3.8.5"
  }
 },
 "nbformat": 4,
 "nbformat_minor": 5
}
