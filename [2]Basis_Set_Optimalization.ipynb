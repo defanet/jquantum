{
 "cells": [
  {
   "cell_type": "code",
   "execution_count": 1,
   "id": "tamil-starter",
   "metadata": {},
   "outputs": [
    {
     "name": "stdout",
     "output_type": "stream",
     "text": [
      "-74.06515256747129\n"
     ]
    }
   ],
   "source": [
    "\"\"\"\n",
    "in this file I remove code from cell [1],[2], and [3] to dft.py file\n",
    "then we import the file here\n",
    "\"\"\"\n",
    "import dft\n",
    "\n",
    "#Test running molecule Water H2O\n",
    "molecule = 'H2O'\n",
    "atoms = ['O','H','H']\n",
    "position = [[0, 0, 0.1173],[0, 0.7572, -0.4692],[0, -0.7572, -0.4692]]\n",
    "spinUp = 5\n",
    "spinDn = 5\n",
    "excName = \"LDA\"\n",
    "basis = 'sto-3g'\n",
    "Etot = dft.kernel(atoms,position,spinUp,spinDn,excName,basis)\n",
    "print(Etot)"
   ]
  },
  {
   "cell_type": "code",
   "execution_count": 6,
   "id": "spread-origin",
   "metadata": {},
   "outputs": [
    {
     "name": "stdout",
     "output_type": "stream",
     "text": [
      "[-0.09996723, 0.39951283, 0.70011547]\n"
     ]
    }
   ],
   "source": [
    "print(dft.dataset[1].cont)"
   ]
  },
  {
   "cell_type": "code",
   "execution_count": 7,
   "id": "elegant-award",
   "metadata": {
    "scrolled": true
   },
   "outputs": [
    {
     "name": "stdout",
     "output_type": "stream",
     "text": [
      "atom:  1 O s\n",
      "Position:  [0.         0.         0.22166486]\n",
      "Cont:  [0.15432897, 0.53532814, 0.44463454]\n",
      "lnum:  [0, 0, 0]\n",
      "Prim:  [130.70932, 23.808861, 6.4436083]\n",
      "ZAtom:  8\n",
      "normalized:  [27.5511676   7.68181877  2.88241787]\n",
      "-------------------------\n",
      "atom:  2 O s\n",
      "Position:  [0.         0.         0.22166486]\n",
      "Cont:  [-0.09996723, 0.39951283, 0.70011547]\n",
      "lnum:  [0, 0, 0]\n",
      "Prim:  [5.0331513, 1.1695961, 0.380389]\n",
      "ZAtom:  8\n",
      "normalized:  [2.39491488 0.80156183 0.34520816]\n",
      "-------------------------\n",
      "atom:  3 O p\n",
      "Position:  [0.         0.         0.22166486]\n",
      "Cont:  [0.15591627, 0.60768372, 0.39195739]\n",
      "lnum:  [1, 0, 0]\n",
      "Prim:  [5.0331513, 1.1695961, 0.380389]\n",
      "ZAtom:  8\n",
      "normalized:  [10.74583258  1.73374402  0.42581899]\n",
      "-------------------------\n",
      "atom:  4 O p\n",
      "Position:  [0.         0.         0.22166486]\n",
      "Cont:  [0.15591627, 0.60768372, 0.39195739]\n",
      "lnum:  [0, 1, 0]\n",
      "Prim:  [5.0331513, 1.1695961, 0.380389]\n",
      "ZAtom:  8\n",
      "normalized:  [10.74583258  1.73374402  0.42581899]\n",
      "-------------------------\n",
      "atom:  5 O p\n",
      "Position:  [0.         0.         0.22166486]\n",
      "Cont:  [0.15591627, 0.60768372, 0.39195739]\n",
      "lnum:  [0, 0, 1]\n",
      "Prim:  [5.0331513, 1.1695961, 0.380389]\n",
      "ZAtom:  8\n",
      "normalized:  [10.74583258  1.73374402  0.42581899]\n",
      "-------------------------\n",
      "atom:  6 H s\n",
      "Position:  [ 0.          1.43090052 -0.88665943]\n",
      "Cont:  [0.15432897, 0.53532814, 0.44463454]\n",
      "lnum:  [0, 0, 0]\n",
      "Prim:  [3.42525091, 0.62391373, 0.1688554]\n",
      "ZAtom:  1\n",
      "normalized:  [1.79444183 0.50032649 0.18773546]\n",
      "-------------------------\n",
      "atom:  7 H s\n",
      "Position:  [ 0.         -1.43090052 -0.88665943]\n",
      "Cont:  [0.15432897, 0.53532814, 0.44463454]\n",
      "lnum:  [0, 0, 0]\n",
      "Prim:  [3.42525091, 0.62391373, 0.1688554]\n",
      "ZAtom:  1\n",
      "normalized:  [1.79444183 0.50032649 0.18773546]\n",
      "-------------------------\n"
     ]
    }
   ],
   "source": [
    "dft.printDataset()"
   ]
  }
 ],
 "metadata": {
  "kernelspec": {
   "display_name": "Python 3",
   "language": "python",
   "name": "python3"
  },
  "language_info": {
   "codemirror_mode": {
    "name": "ipython",
    "version": 3
   },
   "file_extension": ".py",
   "mimetype": "text/x-python",
   "name": "python",
   "nbconvert_exporter": "python",
   "pygments_lexer": "ipython3",
   "version": "3.8.5"
  }
 },
 "nbformat": 4,
 "nbformat_minor": 5
}
